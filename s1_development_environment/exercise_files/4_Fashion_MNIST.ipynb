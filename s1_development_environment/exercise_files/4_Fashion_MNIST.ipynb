{
 "cells": [
  {
   "cell_type": "markdown",
   "metadata": {},
   "source": [
    "# Classifying Fashion-MNIST\n",
    "\n",
    "Now it's your turn to build and train a neural network. You'll be using the [Fashion-MNIST dataset](https://github.com/zalandoresearch/fashion-mnist), a drop-in replacement for the MNIST dataset. MNIST is actually quite trivial with neural networks where you can easily achieve better than 97% accuracy. Fashion-MNIST is a set of 28x28 greyscale images of clothes. It's more complex than MNIST, so it's a better representation of the actual performance of your network, and a better representation of datasets you'll use in the real world.\n",
    "\n",
    "<img src='assets/fashion-mnist-sprite.png' width=500px>\n",
    "\n",
    "In this notebook, you'll build your own neural network. For the most part, you could just copy and paste the code from Part 3, but you wouldn't be learning. It's important for you to write the code yourself and get it to work. Feel free to consult the previous notebooks though as you work through this.\n",
    "\n",
    "First off, let's load the dataset through torchvision."
   ]
  },
  {
   "cell_type": "code",
   "execution_count": 1,
   "metadata": {},
   "outputs": [],
   "source": [
    "import torch\n",
    "from torchvision import datasets, transforms\n",
    "import helper\n",
    "\n",
    "# Define a transform to normalize the data\n",
    "transform = transforms.Compose(\n",
    "    [transforms.ToTensor(), transforms.Normalize((0.5,), (0.5,))]\n",
    ")\n",
    "# Download and load the training data\n",
    "trainset = datasets.FashionMNIST(\n",
    "    \"~/.pytorch/F_MNIST_data/\", download=True, train=True, transform=transform\n",
    ")\n",
    "trainloader = torch.utils.data.DataLoader(trainset, batch_size=64, shuffle=True)\n",
    "\n",
    "# Download and load the test data\n",
    "testset = datasets.FashionMNIST(\n",
    "    \"~/.pytorch/F_MNIST_data/\", download=True, train=False, transform=transform\n",
    ")\n",
    "testloader = torch.utils.data.DataLoader(testset, batch_size=64, shuffle=True)"
   ]
  },
  {
   "cell_type": "markdown",
   "metadata": {},
   "source": [
    "Here we can see one of the images."
   ]
  },
  {
   "cell_type": "code",
   "execution_count": 2,
   "metadata": {},
   "outputs": [
    {
     "data": {
      "text/plain": [
       "<Axes: >"
      ]
     },
     "execution_count": 2,
     "metadata": {},
     "output_type": "execute_result"
    },
    {
     "data": {
      "image/png": "[encoded data removed]",
      "text/plain": [
       "<Figure size 640x480 with 1 Axes>"
      ]
     },
     "metadata": {},
     "output_type": "display_data"
    }
   ],
   "source": [
    "image, label = next(iter(trainloader))\n",
    "helper.imshow(image[0, :])"
   ]
  },
  {
   "cell_type": "markdown",
   "metadata": {},
   "source": [
    "## Building the network\n",
    "\n",
    "Here you should define your network. As with MNIST, each image is 28x28 which is a total of 784 pixels, and there are 10 classes. You should include at least one hidden layer. We suggest you use ReLU activations for the layers and to return the logits or log-softmax from the forward pass. It's up to you how many layers you add and the size of those layers."
   ]
  },
  {
   "cell_type": "code",
   "execution_count": 3,
   "metadata": {},
   "outputs": [],
   "source": [
    "# TODO: Define your network architecture here\n",
    "from torch import nn, optim\n",
    "import torch.nn.functional as F\n",
    "\n",
    "\n",
    "class Classifier(nn.Module):\n",
    "    def __init__(self):\n",
    "        super().__init__()\n",
    "        self.fc1 = nn.Linear(784, 256)\n",
    "        self.fc2 = nn.Linear(256, 128)\n",
    "        self.fc3 = nn.Linear(128, 64)\n",
    "        self.fc4 = nn.Linear(64, 10)\n",
    "\n",
    "    def forward(self, x):\n",
    "        # make sure input tensor is flattened\n",
    "        x = x.view(x.shape[0], -1)\n",
    "\n",
    "        x = F.relu(self.fc1(x))\n",
    "        x = F.relu(self.fc2(x))\n",
    "        x = F.relu(self.fc3(x))\n",
    "        x = F.log_softmax(self.fc4(x), dim=1)\n",
    "\n",
    "        return x"
   ]
  },
  {
   "cell_type": "markdown",
   "metadata": {},
   "source": [
    "# Train the network\n",
    "\n",
    "Now you should create your network and train it. First you'll want to define [the criterion](http://pytorch.org/docs/master/nn.html#loss-functions) ( something like `nn.CrossEntropyLoss`) and [the optimizer](http://pytorch.org/docs/master/optim.html) (typically `optim.SGD` or `optim.Adam`).\n",
    "\n",
    "Then write the training code. Remember the training pass is a fairly straightforward process:\n",
    "\n",
    "* Make a forward pass through the network to get the logits \n",
    "* Use the logits to calculate the loss\n",
    "* Perform a backward pass through the network with `loss.backward()` to calculate the gradients\n",
    "* Take a step with the optimizer to update the weights\n",
    "\n",
    "By adjusting the hyperparameters (hidden units, learning rate, etc), you should be able to get the training loss below 0.4."
   ]
  },
  {
   "cell_type": "code",
   "execution_count": 4,
   "metadata": {},
   "outputs": [
    {
     "name": "stdout",
     "output_type": "stream",
     "text": [
      "torch.Size([64, 10])\n",
      "tensor([[4],\n",
      "        [4],\n",
      "        [4],\n",
      "        [1],\n",
      "        [4],\n",
      "        [4],\n",
      "        [5],\n",
      "        [4],\n",
      "        [4],\n",
      "        [4]])\n"
     ]
    }
   ],
   "source": [
    "# TODO: Create the network, define the criterion and optimizer\n",
    "model = Classifier()\n",
    "\n",
    "images, labels = next(iter(testloader))\n",
    "# Get the class probabilities\n",
    "ps = torch.exp(model(images))\n",
    "# Make sure the shape is appropriate, we should get 10 class probabilities for 64 examples\n",
    "print(ps.shape)\n",
    "\n",
    "top_p, top_class = ps.topk(1, dim=1)\n",
    "# Look at the most likely classes for the first 10 examples\n",
    "print(top_class[:10, :])"
   ]
  },
  {
   "cell_type": "code",
   "execution_count": 5,
   "metadata": {},
   "outputs": [
    {
     "name": "stdout",
     "output_type": "stream",
     "text": [
      "Epoch: 1/30 Training Loss: 0.518 Test Loss: 0.434 Test Accuracy: 84.74%\n",
      "Epoch: 2/30 Training Loss: 0.392 Test Loss: 0.421 Test Accuracy: 84.78%\n",
      "Epoch: 3/30 Training Loss: 0.356 Test Loss: 0.414 Test Accuracy: 85.12%\n",
      "Epoch: 4/30 Training Loss: 0.331 Test Loss: 0.388 Test Accuracy: 86.61%\n",
      "Epoch: 5/30 Training Loss: 0.315 Test Loss: 0.402 Test Accuracy: 86.27%\n",
      "Epoch: 6/30 Training Loss: 0.303 Test Loss: 0.378 Test Accuracy: 87.31%\n",
      "Epoch: 7/30 Training Loss: 0.290 Test Loss: 0.376 Test Accuracy: 87.54%\n",
      "Epoch: 8/30 Training Loss: 0.279 Test Loss: 0.378 Test Accuracy: 87.48%\n",
      "Epoch: 9/30 Training Loss: 0.274 Test Loss: 0.360 Test Accuracy: 87.60%\n",
      "Epoch: 10/30 Training Loss: 0.264 Test Loss: 0.369 Test Accuracy: 87.73%\n",
      "Epoch: 11/30 Training Loss: 0.259 Test Loss: 0.368 Test Accuracy: 87.58%\n",
      "Epoch: 12/30 Training Loss: 0.249 Test Loss: 0.370 Test Accuracy: 87.92%\n",
      "Epoch: 13/30 Training Loss: 0.244 Test Loss: 0.392 Test Accuracy: 87.59%\n",
      "Epoch: 14/30 Training Loss: 0.238 Test Loss: 0.392 Test Accuracy: 87.35%\n",
      "Epoch: 15/30 Training Loss: 0.236 Test Loss: 0.399 Test Accuracy: 87.16%\n",
      "Epoch: 16/30 Training Loss: 0.232 Test Loss: 0.387 Test Accuracy: 88.13%\n",
      "Epoch: 17/30 Training Loss: 0.225 Test Loss: 0.380 Test Accuracy: 87.84%\n",
      "Epoch: 18/30 Training Loss: 0.227 Test Loss: 0.384 Test Accuracy: 88.19%\n",
      "Epoch: 19/30 Training Loss: 0.219 Test Loss: 0.404 Test Accuracy: 87.08%\n",
      "Epoch: 20/30 Training Loss: 0.212 Test Loss: 0.427 Test Accuracy: 87.57%\n",
      "Epoch: 21/30 Training Loss: 0.206 Test Loss: 0.390 Test Accuracy: 88.81%\n",
      "Epoch: 22/30 Training Loss: 0.205 Test Loss: 0.416 Test Accuracy: 87.37%\n",
      "Epoch: 23/30 Training Loss: 0.209 Test Loss: 0.423 Test Accuracy: 87.85%\n",
      "Epoch: 24/30 Training Loss: 0.205 Test Loss: 0.414 Test Accuracy: 88.40%\n",
      "Epoch: 25/30 Training Loss: 0.197 Test Loss: 0.470 Test Accuracy: 87.28%\n",
      "Epoch: 26/30 Training Loss: 0.193 Test Loss: 0.432 Test Accuracy: 88.10%\n",
      "Epoch: 27/30 Training Loss: 0.192 Test Loss: 0.434 Test Accuracy: 87.60%\n",
      "Epoch: 28/30 Training Loss: 0.197 Test Loss: 0.448 Test Accuracy: 88.56%\n",
      "Epoch: 29/30 Training Loss: 0.188 Test Loss: 0.422 Test Accuracy: 88.35%\n",
      "Epoch: 30/30 Training Loss: 0.178 Test Loss: 0.430 Test Accuracy: 88.50%\n"
     ]
    }
   ],
   "source": [
    "# TODO: Train the network here\n",
    "model = Classifier()\n",
    "criterion = nn.CrossEntropyLoss()\n",
    "optimizer = optim.Adam(model.parameters(), lr=0.003)\n",
    "\n",
    "epochs = 30\n",
    "steps = 0\n",
    "\n",
    "train_losses, test_losses = [], []\n",
    "for e in range(epochs):\n",
    "    running_loss = 0\n",
    "    for images, labels in trainloader:\n",
    "        optimizer.zero_grad()\n",
    "\n",
    "        log_ps = model(images)\n",
    "        loss = criterion(log_ps, labels)\n",
    "        loss.backward()\n",
    "        optimizer.step()\n",
    "\n",
    "        running_loss += loss.item()\n",
    "\n",
    "    # Validation pass and printing validation accuracy\n",
    "    test_loss = 0\n",
    "    accuracy = 0\n",
    "    model.eval()  # Switch to evaluation mode\n",
    "    with torch.no_grad():\n",
    "        for images, labels in testloader:\n",
    "            log_ps = model(images)\n",
    "            test_loss += criterion(log_ps, labels)\n",
    "\n",
    "            ps = torch.exp(log_ps)\n",
    "            top_p, top_class = ps.topk(1, dim=1)\n",
    "            equals = top_class == labels.view(*top_class.shape)\n",
    "            accuracy += torch.mean(equals.type(torch.FloatTensor))\n",
    "\n",
    "    model.train()  # Switch back to training mode\n",
    "\n",
    "    train_losses.append(running_loss / len(trainloader))\n",
    "    test_losses.append(test_loss / len(testloader))\n",
    "\n",
    "    print(\n",
    "        f\"Epoch: {e+1}/{epochs}\",\n",
    "        f\"Training Loss: {running_loss/len(trainloader):.3f}\",\n",
    "        f\"Test Loss: {test_loss/len(testloader):.3f}\",\n",
    "        f\"Test Accuracy: {accuracy.item()*100/len(testloader):.2f}%\",\n",
    "    )"
   ]
  },
  {
   "cell_type": "code",
   "execution_count": 13,
   "metadata": {},
   "outputs": [
    {
     "data": {
      "image/png": "[encoded data removed]",
      "text/plain": [
       "<Figure size 600x900 with 2 Axes>"
      ]
     },
     "metadata": {
      "image/png": {
       "height": 301,
       "width": 589
      }
     },
     "output_type": "display_data"
    }
   ],
   "source": [
    "%matplotlib inline\n",
    "%config InlineBackend.figure_format = 'retina'\n",
    "\n",
    "import helper\n",
    "\n",
    "# Test out your network!\n",
    "\n",
    "dataiter = iter(testloader)\n",
    "images, labels = next(dataiter)\n",
    "img = images[0]\n",
    "# Convert 2D image to 1D vector\n",
    "img = img.resize_(1, 784)\n",
    "\n",
    "# TODO: Calculate the class probabilities (softmax) for img\n",
    "with torch.no_grad():\n",
    "    log_ps = model(img)\n",
    "    ps = torch.exp(log_ps)\n",
    "\n",
    "# Plot the image and probabilities\n",
    "helper.view_classify(img.resize_(1, 28, 28), ps, version='Fashion')"
   ]
  }
 ],
 "metadata": {
  "kernelspec": {
   "display_name": "Python 3",
   "language": "python",
   "name": "python3"
  },
  "language_info": {
   "codemirror_mode": {
    "name": "ipython",
    "version": 3
   },
   "file_extension": ".py",
   "mimetype": "text/x-python",
   "name": "python",
   "nbconvert_exporter": "python",
   "pygments_lexer": "ipython3",
   "version": "3.8.18"
  }
 },
 "nbformat": 4,
 "nbformat_minor": 2
}
